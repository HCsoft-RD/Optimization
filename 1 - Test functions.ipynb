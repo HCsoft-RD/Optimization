{
 "cells": [
  {
   "cell_type": "markdown",
   "metadata": {},
   "source": [
    "# Global minimization benchmark functions"
   ]
  },
  {
   "cell_type": "markdown",
   "metadata": {},
   "source": [
    "# 1. The ObjFun object"
   ]
  },
  {
   "cell_type": "markdown",
   "metadata": {},
   "source": [
    "In order to compare the performance of different global minimization algorithms, we will define a set of benchmark functions that will be used to test the algorithms. \n",
    "\n",
    "Each of these functions will be implemented in an ObjFunc class that provide us with basic functionality."
   ]
  },
  {
   "cell_type": "markdown",
   "metadata": {},
   "source": [
    "Parameters\n",
    "----------\n",
    "**func**: *function*.\n",
    "\n",
    "    This function calculates f(X) where x is a vector of valid trials for the objective function such as\n",
    "    x = [x1,x2,x3,..] with shape (n,xi)\n",
    "    \n",
    "\n",
    "**domain**: *list*\n",
    "\n",
    "    list containing a tuple for each dimension of the objective function. Each tuple will conatin\n",
    "    two values indicating the lowe and upper bounds of the objective function domain.\n",
    "    For example, [(-1,1),(-2,2)] would indicate that the objective function is a two dimensional function.\n",
    "    In this case X-->(x,y) |-1<x<1,-2<y<2.\n",
    "\n",
    "**benchmark**: *list [X,val], optional*\n",
    "\n",
    "    Contains the benchmark value for the objective function.\n",
    "\n",
    "Attributes\n",
    "----------\n",
    "**n_reads**: *int*\n",
    "\n",
    "    The number of times the objective function has been evaluated since the ObjFunc has been created.\n",
    "    \n",
    "**max_dom**: *array (n_dims,)*\n",
    "\n",
    "    Array containing the upper boundary for the function domain in each dimension\n",
    "    \n",
    "**min_dom**: *array (n_dims,)*\n",
    "\n",
    "    Array containing the lower boundary for the function domain in each dimension"
   ]
  },
  {
   "cell_type": "code",
   "execution_count": 1,
   "metadata": {
    "collapsed": false
   },
   "outputs": [],
   "source": [
    "import numpy as np\n",
    "class ObjFunc(object):\n",
    "    \"\"\"Objective function object for optimization benchmark.\n",
    "    \n",
    "    Parameters\n",
    "    ----------\n",
    "    func: function.\n",
    "        This function calculates f(X) where x is a vector of valid trials for the objective function such as\n",
    "        x = [x1,x2,x3,..] with shape (n,xi)\n",
    "        \n",
    "    domain: list\n",
    "        list containing a tuple for each dimension of the objective function. Each tuple will conatin\n",
    "        two values indicating the lowe and upper bounds of the objective function domain.\n",
    "        For example, [(-1,1),(-2,2)] would indicate that the objective function is a two dimensional function.\n",
    "        In this case X-->(x,y) |-1<x<1,-2<y<2.\n",
    "        \n",
    "    benchmark: list [X,val], optional\n",
    "        Contains the benchmark value for the objective function.\n",
    "        \n",
    "    Attributes\n",
    "    ----------\n",
    "    n_reads: int\n",
    "        The number of times the objective function has been evaluated since the ObjFunc has been created.\n",
    "    max_dom: array (n_dims,)\n",
    "        Array containing the upper boundary for the function domain in each dimension\n",
    "    min_dom: array (n_dims,)\n",
    "        Array containing the lower boundary for the function domain in each dimension\n",
    "    \"\"\"\n",
    "    def __init__(self, func, domain, benchmark=None):\n",
    "        self.func = func\n",
    "        self.domain = [d[0] for d in domain]\n",
    "        self.benchmark = benchmark\n",
    "        self.n_reads = 0\n",
    "        max_dom = []\n",
    "        min_dom = []\n",
    "        for pair in self.domain:\n",
    "            max_dom.append(pair[1])\n",
    "            min_dom.append(pair[0])\n",
    "        self.max_dom = np.array(max_dom)\n",
    "        self.min_dom = np.array(min_dom)\n",
    "        \n",
    "    def to_scaled(self, x):\n",
    "        \"\"\"Scales the input vector to [-1,1] range\"\"\"\n",
    "        OldMax = self.max_dom\n",
    "        OldMin = self.min_dom\n",
    "        NewMax = 1.\n",
    "        NewMin = -1.\n",
    "        return (((x - OldMin) * (NewMax - NewMin)) / (OldMax - OldMin)) + NewMin\n",
    "    \n",
    "    def unscale(self, x):\n",
    "        \"\"\"Scales an input vector in the [-1,1] range to a vector in the original domain of the function\"\"\"\n",
    "        OldMax = 1.\n",
    "        OldMin = -1.\n",
    "        NewMax = self.max_dom\n",
    "        NewMin = self.min_dom\n",
    "        return (((x - OldMin) * (NewMax - NewMin)) / (OldMax - OldMin)) + NewMin\n",
    "    \n",
    "    def evaluate(self, x):\n",
    "        \"\"\"Evaluates the objective function either on a single X or an array of candidate solutions\"\"\"\n",
    "        if len(x.shape) ==  1:\n",
    "            self.n_reads += 1\n",
    "            return self.func(np.tile(x, (2,1)))[0]\n",
    "        self.n_reads += len(x[:,0])\n",
    "        return self.func(x)\n",
    "         \n",
    "    def in_domain(self, x, scaled=False):\n",
    "        \"\"\"Returns true if x is in the function domain. in case x is an array returns an array of booleans.\"\"\"\n",
    "        if scaled:\n",
    "            return np.all(np.abs(x) <= 1)\n",
    "        else:\n",
    "            for i, pair in enumerate(self.domain):\n",
    "                if x[i]<pair[0]:\n",
    "                    return False\n",
    "                if x[i]>pair[1]:\n",
    "                    return False \n",
    "            return True\n",
    "    \n",
    "    def random_in_domain(self):\n",
    "        \"\"\"Returns a valid candidate solution randomly sampled from the objective funtion domain\"\"\"\n",
    "        Xrd=[] \n",
    "        for pair in self.domain:   \n",
    "            bot = pair[0]\n",
    "            top = pair[1]\n",
    "            Xrd.append(np.random.uniform(low=bot, high=top))\n",
    "        return np.array(Xrd)"
   ]
  },
  {
   "cell_type": "markdown",
   "metadata": {},
   "source": [
    "# 2. Wikipedia 2d benchmark functions"
   ]
  },
  {
   "cell_type": "markdown",
   "metadata": {},
   "source": [
    "We will test the algrithms agains a set of different objective functions. These functions are described in the <a href=\"https://en.wikipedia.org/wiki/Test_functions_for_optimization\">Wikipedia</a> and shown in the following table."
   ]
  },
  {
   "cell_type": "markdown",
   "metadata": {},
   "source": [
    "<img src=\"functions_data/table_1.png\"></img>\n",
    "<img src=\"functions_data/table_2.png\"></img>"
   ]
  },
  {
   "cell_type": "markdown",
   "metadata": {},
   "source": [
    "## 2.1 n-dimensional functions"
   ]
  },
  {
   "cell_type": "markdown",
   "metadata": {},
   "source": [
    "There is a subset of the functions shown in the table above that are defined for an arbitrary number of dimensions, while the rest of them are defined only for 2 dimensions.\n",
    "\n",
    "We will create an special class for each of the n-dimensional functions in order to be able to take that into account. "
   ]
  },
  {
   "cell_type": "code",
   "execution_count": 2,
   "metadata": {
    "collapsed": true
   },
   "outputs": [],
   "source": [
    "class Rastrigin(ObjFunc):\n",
    "    \"\"\"Objfunc for n-dimensional Rastrigin fucntions\"\"\"\n",
    "    def __init__(self,n_dims=2,A=10):\n",
    "        self.n_dims = n_dims\n",
    "        dom = [[(-5.12,5.12)] for _ in range(self.n_dims)]\n",
    "        bench=[np.zeros(n_dims),0]\n",
    "        fun = lambda x: A*self.n_dims+(x**2-A*np.cos(2*np.pi*x)).sum(axis=1)\n",
    "        ObjFunc.__init__(self,fun,dom,bench)\n",
    "        \n",
    "class Rosenbrock(ObjFunc):\n",
    "    \"\"\"Objfunc for n-dimensional Rosenbrock fucntions\"\"\"\n",
    "    def __init__(self,n_dims=2):\n",
    "        self.n_dims = n_dims\n",
    "        dom = [[(-50,50)] for _ in range(self.n_dims)]\n",
    "        bench=[np.ones(n_dims),0.]\n",
    "        fun = lambda x: np.array([100*(x[:,i+1]-x[:,i]**2)**2+(x[:,i]-1)**2 for i in range(n_dims-1)]).sum(axis=0)\n",
    "        ObjFunc.__init__(self,fun,dom,bench)\n",
    "\n",
    "class StyblinskiTang(ObjFunc):\n",
    "    \"\"\"Objfunc for n-dimensional Styblinski-Tang fucntions\"\"\"\n",
    "    def __init__(self,n_dims=2):\n",
    "        self.n_dims = n_dims\n",
    "        dom = [[(-5,5)] for _ in range(self.n_dims)]\n",
    "        bench=[np.ones(n_dims)*-2.903534,39.16616*n_dims]\n",
    "        fun = lambda x: (x**4-16*x**2+5*x).sum(axis=1)/2.\n",
    "        ObjFunc.__init__(self,fun,dom,bench)"
   ]
  },
  {
   "cell_type": "markdown",
   "metadata": {},
   "source": [
    "## 2.2  2D Benchmarks"
   ]
  },
  {
   "cell_type": "markdown",
   "metadata": {},
   "source": [
    "We will be implementing all the functions from that table that have only a single global minima. This is because later we would like to see in case the solver fails how far from the global minimum it ended up. This is easier to do if there is only one global minima. \n",
    "\n",
    "This functions will be implemented in the class **Wikipedia2D**. This class inherits from a shaolin Dashboard, so it offers a visual interface for creating a dictionary of benchmark functions.\n",
    "\n",
    "This class it will also include a 2d version of the n-dimensional benchmarks defined above."
   ]
  },
  {
   "cell_type": "code",
   "execution_count": 3,
   "metadata": {
    "collapsed": false
   },
   "outputs": [],
   "source": [
    "from shaolin.core.dashboard import Dashboard\n",
    "\n",
    "\n",
    "\n",
    "class Wikipedia2D(Dashboard):\n",
    "    \n",
    "    \n",
    "    def __init__(self,**kwargs):\n",
    "        self._init_funcs()\n",
    "        self.functions = {}\n",
    "        dash = [\"@selmul$d=Wikipedia test 2D&n=func_sel&o=\"+str(list(self._all_funcs.keys()))]\n",
    "        \n",
    "        Dashboard.__init__(self,dash,**kwargs)\n",
    "        self.func_sel.value = tuple(self._all_funcs.keys())\n",
    "        self.observe(self.update)\n",
    "        self.update()\n",
    "    \n",
    "    def _init_funcs(self):\n",
    "        funcs = {}\n",
    "        #Eggholder\n",
    "        eggholder = lambda x: -1*(x[:,1]+47)*np.sin(np.sqrt(np.abs(x[:,1]+x[:,0]/2.0+47.0)))-x[:,0]*np.sin(np.sqrt(np.abs(x[:,0]-(x[:,1]+47.0))))\n",
    "        dom=[[(-510,512)],[(-512,512)]]\n",
    "        egg_bench=[np.array([512,404.231805]),-959.640663]\n",
    "        egg=ObjFunc(eggholder,domain=dom,benchmark=egg_bench)\n",
    "        funcs['eggholder'] = egg\n",
    "        #Rastriguin\n",
    "        funcs['rastrigin'] = Rastrigin(n_dims=2)\n",
    "        #Ackley\n",
    "        ackley = lambda x: -20*np.exp(-0.2*np.sqrt(0.5*(x[:,0]**2+x[:,1]**2))) - np.exp(0.5*((np.cos(2*np.pi*x[:,0])+np.cos(2*np.pi*x[:,1]))))+np.e+20\n",
    "        ack_dom=[[(-5,5)],[(-5,5)]]\n",
    "        ack_bench=[np.array([0.,0.]),0.]\n",
    "        funcs['ackley'] = ObjFunc(ackley,domain=ack_dom,benchmark=ack_bench)\n",
    "        #sphere\n",
    "        sp = lambda x: (x**2).sum(axis=1)                                                                            \n",
    "        sp_dom=[[(-5000,5000)],[(-5000,5000)]]\n",
    "        sp_bench=[np.array([0.,0.]),0.]\n",
    "        funcs['sphere'] = ObjFunc(sp,domain=sp_dom,benchmark=sp_bench)\n",
    "        #rosenbrock\n",
    "        funcs['rosenbrock'] = Rosenbrock(n_dims=2)  \n",
    "        #Beale's\n",
    "        beales = lambda x: (1.5-x[:,0]+x[:,0]*x[:,1])**2+(2.25-x[:,0]+x[:,0]*x[:,1]**2)**2+(2.625-x[:,0]+x[:,0]*x[:,1]**3)**2\n",
    "        bea_dom=[[(-4.5,4.5)],[(-4.5,4.5)]]\n",
    "        bea_bench=[np.array([3.,0.5]),0.]       \n",
    "        funcs['beales'] = ObjFunc(beales,domain=bea_dom,benchmark=bea_bench)        \n",
    "        #Goldstein price\n",
    "        gpf = lambda x: (1+(x[:,0]+x[:,1]+1)**2*(19-14*x[:,0]+3*x[:,0]**2-14*x[:,1]+6*x[:,0]*x[:,1]+3*x[:,1]**2))*\\\n",
    "                (30+(2*x[:,0]-3*x[:,1])**2*(18-32*x[:,0]+12*x[:,0]**2+48*x[:,1]-36*x[:,0]*x[:,1]+27*x[:,1]**2))\n",
    "        gpf_dom =[[(-2,2)],[(-2,2)]]\n",
    "        gpf_bench=[np.array([0.,-1]),3]\n",
    "        funcs['goldstein_price'] = ObjFunc(gpf,domain=gpf_dom,benchmark=gpf_bench)\n",
    "        #booth's function\n",
    "        bth = lambda x: (x[:,0]+2*x[:,1]-7)**2+(2*x[:,0]+x[:,1]-5)**2\n",
    "        bth_dom =[[(-10,10)],[(-10,10)]]\n",
    "        bth_bench=[np.array([1,3.]),0]\n",
    "        funcs['booth'] = ObjFunc(bth,domain=bth_dom,benchmark=bth_bench)\n",
    "        #bukin6\n",
    "        bk6 = lambda x: 100*np.sqrt(np.abs(x[:,1]-0.01*x[:,0]**2))+0.01*np.abs(x[:,0]+10)\n",
    "        bk6_dom = [[(-15,-5)],[(-3,3)]]\n",
    "        bk6_bench = [np.array([-10,1]),0.]\n",
    "        funcs['bukin6'] = ObjFunc(bk6,domain=bk6_dom,benchmark=bk6_bench)\n",
    "        #matyas\n",
    "        mat = lambda x: 0.26*(x[:,0]**2+x[:,1]**2)-0.48*x[:,0]*x[:,1]\n",
    "        mat_dom = [[(-10,10)],[(-10,10)]]\n",
    "        mat_bench = [np.array([0,0]),0.]\n",
    "        funcs['matyas'] = ObjFunc(mat,domain=mat_dom,benchmark=mat_bench)\n",
    "        #levy13\n",
    "        l13 = lambda x: np.sin(3*np.pi*x[:,0])**2+(x[:,0]-1)**2*(1+np.sin(3*np.pi*x[:,1])**2)+(x[:,1]-1)**2*(1+np.sin(2*np.pi*x[:,1])**2)\n",
    "        l13_dom = [[(-10,10)],[(-10,10)]]\n",
    "        l13_bench = [np.array([1,1]),0.]\n",
    "        funcs['levy13'] = ObjFunc(l13,domain=l13_dom,benchmark=l13_bench)\n",
    "        #Three-hump camel function\n",
    "        thc = lambda x: 2*x[:,0]**2-1.05*x[:,0]**4+(x[:,0]**6)/6+x[:,0]*x[:,1]+x[:,1]**2\n",
    "        thc_dom = [[(-5,5)],[(-5,5)]]\n",
    "        thc_bench = [np.array([0,0]),0.]\n",
    "        funcs['three_hump_camel'] = ObjFunc(thc,domain=thc_dom,benchmark=thc_bench)\n",
    "        #easom function\n",
    "        eas = lambda x: -np.cos(x[:,0])*np.cos(x[:,1])*np.exp(-((x[:,0]-np.pi)**2+(x[:,1]-np.pi)**2))\n",
    "        eas_dom = [[(-100,100)],[(-100,100)]]\n",
    "        eas_bench = [np.array([np.pi,np.pi]),-1.]\n",
    "        funcs['easom'] = ObjFunc(eas,domain=eas_dom,benchmark=eas_bench)\n",
    "        #McCornick\n",
    "        mck = lambda x: np.sin(x[:,0]+x[:,1])+(x[:,0]-x[:,1])**2-1.5*x[:,0]+2.5*x[:,1]+1\n",
    "        mck_dom = [[(-1.5,4)],[(-3,4)]]\n",
    "        mck_bench = [np.array([-0.5471972,-1.5471975]),-1.913223]\n",
    "        funcs['mccornick'] = ObjFunc(mck,domain=mck_dom,benchmark=mck_bench)\n",
    "        #shaffer2\n",
    "        sh2 = lambda x: 0.5+(np.sin(x[:,0]**2-x[:,1]**2)**2-0.5)/(1+0.001*(x[:,0]**2+x[:,1]**2))**2\n",
    "        sh2_dom = [[(-100,100)],[(-100,100)]]\n",
    "        sh2_bench = [np.array([0,0]),0.]\n",
    "        funcs['shaffer2'] = ObjFunc(sh2,domain=sh2_dom,benchmark=sh2_bench)\n",
    "        #shaffer4\n",
    "        sh4 = lambda x: 0.5+(np.cos(np.sin(np.abs(x[:,0]**2-x[:,1]**2)))**2-0.5)/(1+0.001*(x[:,0]**2+x[:,1]**2))**2\n",
    "        sh4_dom = [[(-100,100)],[(-100,100)]]\n",
    "        sh4_bench = [np.array([0,1.25313]),0.292579]\n",
    "        funcs['shaffer4'] = ObjFunc(sh4,domain=sh4_dom,benchmark=sh4_bench)\n",
    "        self._all_funcs = funcs\n",
    "        \n",
    "    def update(self,_=None):\n",
    "        funcs = {}\n",
    "        for key in self.func_sel.value:\n",
    "            funcs[key]  =  self._all_funcs[key]\n",
    "        self.functions = dict(funcs)     "
   ]
  },
  {
   "cell_type": "code",
   "execution_count": 4,
   "metadata": {
    "collapsed": false
   },
   "outputs": [],
   "source": [
    "wiki = Wikipedia2D()"
   ]
  },
  {
   "cell_type": "markdown",
   "metadata": {},
   "source": [
    "#### Widget interface"
   ]
  },
  {
   "cell_type": "markdown",
   "metadata": {},
   "source": [
    "This object offers a widget interface to select the functions that we would like to test. The selected values will be avaiable in a dictionary keyed by its function name."
   ]
  },
  {
   "cell_type": "code",
   "execution_count": 6,
   "metadata": {
    "collapsed": true
   },
   "outputs": [],
   "source": [
    "wiki.widget"
   ]
  },
  {
   "cell_type": "markdown",
   "metadata": {},
   "source": [
    "<img src=\"functions_data/widget2d.png\"></img>"
   ]
  },
  {
   "cell_type": "markdown",
   "metadata": {},
   "source": [
    "#### Accessing the objective functions"
   ]
  },
  {
   "cell_type": "markdown",
   "metadata": {},
   "source": [
    "This dictionary is available through the functions attribute of the class."
   ]
  },
  {
   "cell_type": "code",
   "execution_count": 7,
   "metadata": {
    "collapsed": false
   },
   "outputs": [
    {
     "data": {
      "text/plain": [
       "{'ackley': <__main__.ObjFunc at 0x7f8b703f0c88>,\n",
       " 'beales': <__main__.ObjFunc at 0x7f8b703f0940>,\n",
       " 'booth': <__main__.ObjFunc at 0x7f8b703f07b8>,\n",
       " 'bukin6': <__main__.ObjFunc at 0x7f8b703f07f0>,\n",
       " 'easom': <__main__.ObjFunc at 0x7f8b703f0668>,\n",
       " 'eggholder': <__main__.ObjFunc at 0x7f8b703f0cc0>,\n",
       " 'goldstein_price': <__main__.ObjFunc at 0x7f8b703f08d0>,\n",
       " 'levy13': <__main__.ObjFunc at 0x7f8b703f0898>,\n",
       " 'matyas': <__main__.ObjFunc at 0x7f8b703f0860>,\n",
       " 'mccornick': <__main__.ObjFunc at 0x7f8b703f0518>,\n",
       " 'rastrigin': <__main__.Rastrigin at 0x7f8b703f0a90>,\n",
       " 'rosenbrock': <__main__.Rosenbrock at 0x7f8b703f0ac8>,\n",
       " 'shaffer2': <__main__.ObjFunc at 0x7f8b703f0438>,\n",
       " 'shaffer4': <__main__.ObjFunc at 0x7f8b703f0128>,\n",
       " 'sphere': <__main__.ObjFunc at 0x7f8b703f0978>,\n",
       " 'three_hump_camel': <__main__.ObjFunc at 0x7f8b703f0780>}"
      ]
     },
     "execution_count": 7,
     "metadata": {},
     "output_type": "execute_result"
    }
   ],
   "source": [
    "wiki.functions"
   ]
  },
  {
   "cell_type": "markdown",
   "metadata": {},
   "source": [
    "# 3. Multidimensional benchmark functions"
   ]
  },
  {
   "cell_type": "markdown",
   "metadata": {},
   "source": [
    "## 3.1 The objective functions"
   ]
  },
  {
   "cell_type": "markdown",
   "metadata": {},
   "source": [
    "Now it is time to do something similar with the multidimensional version of our benchmark functions. This functions are the formerly defined multidimensioanl functions, the <a href=\"http://infinity77.net/global_optimization/test_functions_nd_D.html\"> De Villiers-Glasser 02</a> and a N-dimensional <a href=\"http://doye.chem.ox.ac.uk/jon/structures/LJ/tables.150.html\">Lennard Jonnes potential</a> for the x,y,x positions components of every particle."
   ]
  },
  {
   "cell_type": "code",
   "execution_count": 8,
   "metadata": {
    "collapsed": true
   },
   "outputs": [],
   "source": [
    "import numpy as np\n",
    "from shaolin.core.dashboard import Dashboard\n",
    "\n",
    "\n",
    "class DeVilliersGlasser02(ObjFunc):\n",
    "    def __init__(self):\n",
    "        dom = [[(1,60)] for _ in range(5)]\n",
    "        bench=[np.array([53.81,1.27,3.012,2.13,0.507]),0.]\n",
    "        ObjFunc.__init__(self,self.calc_obj_func,dom,bench)\n",
    "    \n",
    "    def calc_obj_func(self,x):\n",
    "        val = 0\n",
    "        for i in range(1,24):\n",
    "            ti = 0.1*(i-1)\n",
    "            yi = 53.81*(1.27**ti)*np.tanh(3.012*ti+np.sin(2.13*ti))*np.cos(np.exp(0.507)*ti)\n",
    "            val += (x[:,0]*x[:,1]**ti*np.tanh(x[:,2]*ti+np.sin(x[:,3]*ti))*np.cos(ti*np.exp(x[:,4]))-yi)**2\n",
    "        return val\n",
    "\n",
    "class LennardJones(ObjFunc):\n",
    "    \n",
    "    def __init__(self, n_atoms=10):\n",
    "        self.dom = [-1.1,1.1]\n",
    "        domain = [[(-1.1,1.1)] for _ in range(3*n_atoms)]\n",
    "        self.N = n_atoms\n",
    "        minima = {'2':-1,'3':-3,'4':-6,'5':-9.103852,'6':-12.712062,'7':-16.505384,\n",
    "                  '8':-19.821489,'9':-24.113360,'10':-28.422532,'11':-32.765970,'12':-37.967600,\n",
    "                  '13':-44.326801,'14':-47.845157,'15':-52.322627\n",
    "                 }\n",
    "        bench = [np.zeros(self.N*3),minima[str(n_atoms)]]\n",
    "        ObjFunc.__init__(self,self.lj_func,domain,bench)\n",
    "        \n",
    "    def lj_func(self,x):\n",
    "        def lennard_jones(U):\n",
    "            U = U.reshape(self.N,3)\n",
    "            npart = len(U)\n",
    "            Epot = 0.0\n",
    "            for i in range(npart):\n",
    "                for j in range(npart):\n",
    "                    if i>j:\n",
    "                        r2 = np.linalg.norm(U[j,:]-U[i,:])**2\n",
    "                        r2i = 1.0/r2\n",
    "                        r6i = r2i*r2i*r2i\n",
    "                        Epot = Epot + r6i*(r6i-1.)\n",
    "            Epot = Epot * 4\n",
    "            return Epot\n",
    "        return np.array([lennard_jones(x[i,:]) for i in range(x.shape[0])]).reshape(x.shape[0],1)\n",
    "    \n",
    "    def random_in_domain(self):\n",
    "        return self.to_scaled(np.random.uniform(low=self.dom[0],high=self.dom[1],size=(self.N,3)).flatten())\n",
    "    \n",
    "    def in_domain(self,x):\n",
    "        return np.all(np.abs(x)<1.)\n",
    "\n",
    "                                                \n",
    "\n"
   ]
  },
  {
   "cell_type": "markdown",
   "metadata": {},
   "source": [
    "## 3.2 The MultiDimTest class"
   ]
  },
  {
   "cell_type": "markdown",
   "metadata": {},
   "source": [
    "Now we will create a class that allows us to generate a dictionary of arbitrary selected n-dimensional functions. It will work like the Wikipedia2D class but with a different widget interface."
   ]
  },
  {
   "cell_type": "code",
   "execution_count": 9,
   "metadata": {
    "collapsed": true
   },
   "outputs": [],
   "source": [
    "class MultiDimTest(Dashboard):\n",
    "    \n",
    "    def __init__(self,\n",
    "                 ros_step=1,\n",
    "                 ras_step=1,\n",
    "                 sbt_step=1,\n",
    "                 \n",
    "                 lj_step=1,\n",
    "                 ras_range=(2,4),\n",
    "                 ros_range=(2,4),\n",
    "                 lj_range=(2,4),\n",
    "                 sbt_range=(2,4),\n",
    "                 **kwargs):\n",
    "        self.functions = {}\n",
    "        \n",
    "        dash = ['r$N=multim_test',[[\"c$n=ras_col\",[\"[False]$d=Rastrigin&n=ras_tog\",\n",
    "                                                   \"(2,500,1,\"+str(ras_range)+\")$d=Dim range&n=ras_dim\",\n",
    "                                                   \"(1,99,1,\"+str(ras_step)+\")$d=Step&n=ras_step\",\n",
    "                                                  ]\n",
    "                                 ],\n",
    "                                 [\"c$n=ros_col\",[\"[False]$d=Rosenbrock&n=ros_tog\",\n",
    "                                                 \"(2,500,1,\"+str(ras_range)+\")$d=Dim range&n=ros_dim\",\n",
    "                                                 \"(1,99,1,\"+str(ros_step)+\")$d=Step&n=ros_step\",\n",
    "                                                 ]\n",
    "                                 ],\n",
    "                                 [\"c$n=sbt_col\",[\"[False]$d=StyblinskiTang&n=sbt_tog\",\n",
    "                                                 \"(2,500,1,\"+str(ras_range)+\")$d=Dim range&n=sbt_dim\",\n",
    "                                                 \"(1,99,1,\"+str(ros_step)+\")$d=Step&n=sbt_step\",\n",
    "                                                 ]\n",
    "                                 ],\n",
    "                                 [\"c$n=lj_col\",[\"[False]$d=LennardJones&n=lj_tog\",\n",
    "                                                \"(2,500,1,\"+str(ras_range)+\")$d=Dim range&n=lj_dim\",\n",
    "                                                 \"(1,99,1,\"+str(ros_step)+\")$d=Step&n=lj_step\",\n",
    "                                                 ]\n",
    "                                 ],\"[True]$d=DeVilliersGlasser02&n=dv2_tog\",\n",
    "                                   \"btn$d=Update&n=update_btn\"\n",
    "                                ]\n",
    "             ]\n",
    "    \n",
    "        Dashboard.__init__(self,dash,**kwargs)\n",
    "        self.update_btn.observe(self.update)\n",
    "        self.update()\n",
    "        \n",
    "    def update(self,_=None):\n",
    "        funcs = {}\n",
    "        if self.ras_tog.value:\n",
    "            for i in range(self.ras_dim.value[0],self.ras_dim.value[1],self.ras_step.value):\n",
    "                name = \"rastrigin_\"+str(i)\n",
    "                funcs[name] = Rastrigin(i)\n",
    "        if self.ros_tog.value:\n",
    "            for i in range(self.ros_dim.value[0],self.ros_dim.value[1],self.ros_step.value):\n",
    "                name = \"rosenbrock_\"+str(i)\n",
    "                funcs[name] = Rosenbrock(i)\n",
    "        if self.sbt_tog.value:\n",
    "            for i in range(self.sbt_dim.value[0],self.sbt_dim.value[1],self.sbt_step.value):\n",
    "                name = \"styblinski_tang_\"+str(i)\n",
    "                funcs[name] = StyblinskiTang(i)\n",
    "        if self.lj_tog.value:\n",
    "            for i in range(self.lj_dim.value[0],self.lj_dim.value[1],self.lj_step.value):\n",
    "                name = \"lennard_jones_\"+str(i)\n",
    "                funcs[name] = LennardJones(i)\n",
    "        if self.dv2_tog.value:\n",
    "            funcs['dev_glass02'] = DeVilliersGlasser02()\n",
    "        self.functions = funcs\n",
    "\n",
    "                        "
   ]
  },
  {
   "cell_type": "code",
   "execution_count": 10,
   "metadata": {
    "collapsed": false
   },
   "outputs": [
    {
     "data": {
      "text/html": [
       "<style>\n",
       ".container{width:75%;}\n",
       "</style"
      ],
      "text/plain": [
       "<IPython.core.display.HTML object>"
      ]
     },
     "metadata": {},
     "output_type": "display_data"
    }
   ],
   "source": [
    "%%HTML\n",
    "<style>\n",
    ".container{width:75%;}\n",
    "</style>"
   ]
  },
  {
   "cell_type": "code",
   "execution_count": 11,
   "metadata": {
    "collapsed": false
   },
   "outputs": [],
   "source": [
    "ndim = MultiDimTest()"
   ]
  },
  {
   "cell_type": "code",
   "execution_count": 12,
   "metadata": {
    "collapsed": false
   },
   "outputs": [],
   "source": [
    "ndim.widget"
   ]
  },
  {
   "cell_type": "markdown",
   "metadata": {},
   "source": [
    "<img src=\"functions_data/ndim_widget.png\"></img>"
   ]
  },
  {
   "cell_type": "markdown",
   "metadata": {},
   "source": [
    "In this case the widget interface works as following:\n",
    "\n",
    "- Each function has a toggle button. If it is active the function will be included in the dictionary.\n",
    "- If a function is selected, the dict of the *functions* attribute will contain a range of ObjFun.\n",
    "- The diuctionary will be updated after clicking the update button.\n",
    "\n",
    "For example, if Rastrigin is active, dim range 2-4 and step 1 will produce the following results:\n"
   ]
  },
  {
   "cell_type": "code",
   "execution_count": 13,
   "metadata": {
    "collapsed": false
   },
   "outputs": [
    {
     "data": {
      "text/plain": [
       "{'dev_glass02': <__main__.DeVilliersGlasser02 at 0x7f8b60118d68>}"
      ]
     },
     "execution_count": 13,
     "metadata": {},
     "output_type": "execute_result"
    }
   ],
   "source": [
    "ndim.functions"
   ]
  },
  {
   "cell_type": "markdown",
   "metadata": {},
   "source": [
    "The dim range and step parameters are use for slicing the range of dimensions we want to analize. "
   ]
  },
  {
   "cell_type": "markdown",
   "metadata": {},
   "source": [
    "# 4. Binding it all together"
   ]
  },
  {
   "cell_type": "markdown",
   "metadata": {},
   "source": [
    "Finally, we will create a class that allows us to create a dictionary with both the wikipedia 2d, and the n-dimensional benchmark functions. "
   ]
  },
  {
   "cell_type": "code",
   "execution_count": 14,
   "metadata": {
    "collapsed": true
   },
   "outputs": [],
   "source": [
    "class TestFunctions(Dashboard):\n",
    "    def __init__(self,ros_step=1,\n",
    "                 ras_step=1,\n",
    "                 sbt_step=1,\n",
    "                 lj_step=1,\n",
    "                 ras_range=(2,4),\n",
    "                 ros_range=(2,4),\n",
    "                 lj_range=(2,4),\n",
    "                 sbt_range=(2,4),\n",
    "                 **kwargs):\n",
    "        multi = MultiDimTest(ros_step=ros_step,\n",
    "                                  ras_step=ras_step,\n",
    "                                  sbt_step=sbt_step,\n",
    "                                  lj_step=lj_step,\n",
    "                                  ras_range=ras_range,\n",
    "                                  ros_range=ros_range,\n",
    "                                  lj_range=lj_range,\n",
    "                                  sbt_range=sbt_range,\n",
    "                                  name=\"multi\"\n",
    "                             )\n",
    "        wiki = Wikipedia2D(name='wiki')\n",
    "        self.functions = {}\n",
    "        dash = ['c$N=test_functions',[multi,wiki,[\"r$n=btn_col\",[\"togs$N=mode_sel&o=['wiki','multi']\"]]]]\n",
    "        Dashboard.__init__(self,dash,**kwargs)\n",
    "        self.mode_sel.observe(self.update_layout)\n",
    "        self.wiki.func_sel.observe(self.update)\n",
    "        self.multi.update_btn.observe(self.update)\n",
    "        self.update_layout()\n",
    "        self.update()\n",
    "    def update_layout(self,_=None):\n",
    "        if self.mode_sel.value == 'wiki':\n",
    "            self.wiki.visible=True\n",
    "            self.multi.visible=False\n",
    "\n",
    "        elif self.mode_sel.value == 'multi':\n",
    "            self.wiki.visible=False\n",
    "            self.multi.visible=True\n",
    "            \n",
    "    def update(self,_=None):\n",
    "        #self.wiki.update()\n",
    "        #self.multi.update()\n",
    "        funcs = dict(self.wiki.functions)\n",
    "        funcs.update(dict(self.multi.functions))\n",
    "        self.functions = funcs"
   ]
  },
  {
   "cell_type": "code",
   "execution_count": 15,
   "metadata": {
    "collapsed": true
   },
   "outputs": [],
   "source": [
    "tf = TestFunctions()"
   ]
  },
  {
   "cell_type": "code",
   "execution_count": 16,
   "metadata": {
    "collapsed": true
   },
   "outputs": [],
   "source": [
    "tf.widget"
   ]
  },
  {
   "cell_type": "markdown",
   "metadata": {},
   "source": [
    "<img src=\"functions_data/final_widget.png\"></img>"
   ]
  },
  {
   "cell_type": "code",
   "execution_count": 26,
   "metadata": {
    "collapsed": false
   },
   "outputs": [
    {
     "data": {
      "text/plain": [
       "{'ackley': <__main__.ObjFunc at 0x7ff3944e2470>,\n",
       " 'beales': <__main__.ObjFunc at 0x7ff3944e2dd8>,\n",
       " 'booth': <__main__.ObjFunc at 0x7ff3944e2ef0>,\n",
       " 'bukin6': <__main__.ObjFunc at 0x7ff3944e2f28>,\n",
       " 'dev_glass02': <__main__.DeVilliersGlasser02 at 0x7ff3944c2710>,\n",
       " 'easom': <__main__.ObjFunc at 0x7ff3944ed048>,\n",
       " 'eggholder': <__main__.ObjFunc at 0x7ff3944e29b0>,\n",
       " 'goldstein_price': <__main__.ObjFunc at 0x7ff3944e2eb8>,\n",
       " 'lennard_jones_6': <__main__.LennardJones at 0x7ff3944ed630>,\n",
       " 'lennard_jones_8': <__main__.LennardJones at 0x7ff3944edfd0>,\n",
       " 'levy13': <__main__.ObjFunc at 0x7ff3944e2f98>,\n",
       " 'matyas': <__main__.ObjFunc at 0x7ff3944e2f60>,\n",
       " 'mccornick': <__main__.ObjFunc at 0x7ff3944ed080>,\n",
       " 'rastrigin': <__main__.Rastrigin at 0x7ff3944e27f0>,\n",
       " 'rosenbrock': <__main__.Rosenbrock at 0x7ff3944e2e48>,\n",
       " 'shaffer2': <__main__.ObjFunc at 0x7ff3944ed0b8>,\n",
       " 'shaffer4': <__main__.ObjFunc at 0x7ff3944ed0f0>,\n",
       " 'sphere': <__main__.ObjFunc at 0x7ff3944e2e10>,\n",
       " 'styblinski_tang_2': <__main__.StyblinskiTang at 0x7ff3944ede48>,\n",
       " 'styblinski_tang_3': <__main__.StyblinskiTang at 0x7ff3944edeb8>,\n",
       " 'three_hump_camel': <__main__.ObjFunc at 0x7ff3944e2fd0>}"
      ]
     },
     "execution_count": 26,
     "metadata": {},
     "output_type": "execute_result"
    }
   ],
   "source": [
    "tf.functions"
   ]
  },
  {
   "cell_type": "code",
   "execution_count": null,
   "metadata": {
    "collapsed": true
   },
   "outputs": [],
   "source": []
  }
 ],
 "metadata": {
  "kernelspec": {
   "display_name": "Python [conda root]",
   "language": "python",
   "name": "conda-root-py"
  },
  "language_info": {
   "codemirror_mode": {
    "name": "ipython",
    "version": 3
   },
   "file_extension": ".py",
   "mimetype": "text/x-python",
   "name": "python",
   "nbconvert_exporter": "python",
   "pygments_lexer": "ipython3",
   "version": "3.5.2"
  },
  "widgets": {
   "state": {
    "8aa45581e442401eb0722c4bacce52d9": {
     "views": [
      {
       "cell_index": 40
      }
     ]
    },
    "a6a62f7133d3425581be44cf4edd6778": {
     "views": [
      {
       "cell_index": 31
      }
     ]
    },
    "c5456b5f8bf04a83a1133edd82dce633": {
     "views": [
      {
       "cell_index": 17
      }
     ]
    }
   },
   "version": "1.2.0"
  }
 },
 "nbformat": 4,
 "nbformat_minor": 2
}
